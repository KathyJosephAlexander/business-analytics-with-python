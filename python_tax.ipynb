{
  "nbformat": 4,
  "nbformat_minor": 0,
  "metadata": {
    "colab": {
      "name": "python tax.ipynb",
      "provenance": [],
      "authorship_tag": "ABX9TyOw3O29fm71JM4H72fwvwP/",
      "include_colab_link": true
    },
    "kernelspec": {
      "name": "python3",
      "display_name": "Python 3"
    },
    "language_info": {
      "name": "python"
    }
  },
  "cells": [
    {
      "cell_type": "markdown",
      "metadata": {
        "id": "view-in-github",
        "colab_type": "text"
      },
      "source": [
        "<a href=\"https://colab.research.google.com/github/KathyJosephAlexander/business-analytics-with-python/blob/main/python_tax.ipynb\" target=\"_parent\"><img src=\"https://colab.research.google.com/assets/colab-badge.svg\" alt=\"Open In Colab\"/></a>"
      ]
    },
    {
      "cell_type": "code",
      "execution_count": 1,
      "metadata": {
        "colab": {
          "base_uri": "https://localhost:8080/"
        },
        "id": "NSj0f9ZvPTwZ",
        "outputId": "42a5b157-baf0-4255-d362-52d3be62806d"
      },
      "outputs": [
        {
          "name": "stdout",
          "output_type": "stream",
          "text": [
            "enter first number45\n"
          ]
        }
      ],
      "source": [
        "x=input('enter first number')"
      ]
    },
    {
      "cell_type": "code",
      "source": [
        "y=input('enter second number')"
      ],
      "metadata": {
        "colab": {
          "base_uri": "https://localhost:8080/"
        },
        "id": "FKu1QvfCPhMZ",
        "outputId": "52e47cb7-7d3d-4372-df1e-8079c44d8198"
      },
      "execution_count": 2,
      "outputs": [
        {
          "name": "stdout",
          "output_type": "stream",
          "text": [
            "enter second number80\n"
          ]
        }
      ]
    },
    {
      "cell_type": "code",
      "source": [
        "a=x+y"
      ],
      "metadata": {
        "id": "0eHkXYiwPrst"
      },
      "execution_count": 3,
      "outputs": []
    },
    {
      "cell_type": "code",
      "source": [
        "print (int(x)+int(y))"
      ],
      "metadata": {
        "colab": {
          "base_uri": "https://localhost:8080/"
        },
        "id": "xMdPdWxjP06D",
        "outputId": "d5af60d2-0d66-49bb-b1ff-8904907431b4"
      },
      "execution_count": 9,
      "outputs": [
        {
          "output_type": "stream",
          "name": "stdout",
          "text": [
            "125\n"
          ]
        }
      ]
    },
    {
      "cell_type": "code",
      "source": [
        "x=int(input('enter first number'))"
      ],
      "metadata": {
        "colab": {
          "base_uri": "https://localhost:8080/"
        },
        "id": "YxQIm3WfP5G7",
        "outputId": "520872a2-aa13-42dc-9f37-324a101f4c5e"
      },
      "execution_count": 10,
      "outputs": [
        {
          "name": "stdout",
          "output_type": "stream",
          "text": [
            "enter first number90\n"
          ]
        }
      ]
    },
    {
      "cell_type": "code",
      "source": [
        "y= int(input('enter second number'))"
      ],
      "metadata": {
        "colab": {
          "base_uri": "https://localhost:8080/"
        },
        "id": "ugPHJ9OxR4MR",
        "outputId": "dd030728-6862-4e1e-fcf3-ab323ff525c2"
      },
      "execution_count": 11,
      "outputs": [
        {
          "name": "stdout",
          "output_type": "stream",
          "text": [
            "enter second number99\n"
          ]
        }
      ]
    },
    {
      "cell_type": "code",
      "source": [
        "print(x+y)"
      ],
      "metadata": {
        "colab": {
          "base_uri": "https://localhost:8080/"
        },
        "id": "_lS6GFWQSAbA",
        "outputId": "0c52932b-928e-4663-d51d-f6b2e1ea3c46"
      },
      "execution_count": 12,
      "outputs": [
        {
          "output_type": "stream",
          "name": "stdout",
          "text": [
            "189\n"
          ]
        }
      ]
    },
    {
      "cell_type": "code",
      "source": [
        "p=int(input('enter the principle amt'))"
      ],
      "metadata": {
        "colab": {
          "base_uri": "https://localhost:8080/"
        },
        "id": "1AeUnQNySHWw",
        "outputId": "2b9c32a0-0240-4499-9793-ef35c8270507"
      },
      "execution_count": 14,
      "outputs": [
        {
          "name": "stdout",
          "output_type": "stream",
          "text": [
            "enter the principle amt1000\n"
          ]
        }
      ]
    },
    {
      "cell_type": "code",
      "source": [
        "r=int(input('enter the rate'))"
      ],
      "metadata": {
        "colab": {
          "base_uri": "https://localhost:8080/"
        },
        "id": "Tq3KJz1BTrvS",
        "outputId": "e0016ba5-24ee-43b6-a8b2-238bfa476168"
      },
      "execution_count": 19,
      "outputs": [
        {
          "name": "stdout",
          "output_type": "stream",
          "text": [
            "enter the rate2\n"
          ]
        }
      ]
    },
    {
      "cell_type": "code",
      "source": [
        "r=int(input('enter the time'))"
      ],
      "metadata": {
        "colab": {
          "base_uri": "https://localhost:8080/"
        },
        "id": "PRrELERZUTe9",
        "outputId": "aa6b2baf-72c8-4947-aef4-cbb4f48a13d3"
      },
      "execution_count": 20,
      "outputs": [
        {
          "name": "stdout",
          "output_type": "stream",
          "text": [
            "enter the time5\n"
          ]
        }
      ]
    },
    {
      "cell_type": "code",
      "source": [
        "x=p*r*t/100"
      ],
      "metadata": {
        "id": "43XGCxjGUdjF"
      },
      "execution_count": 21,
      "outputs": []
    },
    {
      "cell_type": "code",
      "source": [
        "print(x)"
      ],
      "metadata": {
        "colab": {
          "base_uri": "https://localhost:8080/"
        },
        "id": "YsTX4Y0_Um81",
        "outputId": "35b22bf0-f94e-4c49-a847-aface234c452"
      },
      "execution_count": 24,
      "outputs": [
        {
          "output_type": "stream",
          "name": "stdout",
          "text": [
            "250.0\n"
          ]
        }
      ]
    },
    {
      "cell_type": "code",
      "source": [
        "x=int(input('enter your banking marks'))\n",
        "if x>=50:\n",
        "  print('pass')\n",
        "else :\n",
        "    print('fail')"
      ],
      "metadata": {
        "colab": {
          "base_uri": "https://localhost:8080/"
        },
        "id": "J6657B97awZc",
        "outputId": "8702bfa5-e27c-46ce-d43e-a7b73bc30761"
      },
      "execution_count": 30,
      "outputs": [
        {
          "output_type": "stream",
          "name": "stdout",
          "text": [
            "enter your banking marks69\n",
            "pass\n"
          ]
        }
      ]
    },
    {
      "cell_type": "code",
      "source": [
        "x=int(input('enter your salary'))\n",
        "if x>= 50000 :\n",
        "  print('your taxable')\n",
        "if x<50000:\n",
        "  print('your not taxable')"
      ],
      "metadata": {
        "colab": {
          "base_uri": "https://localhost:8080/"
        },
        "id": "YdTzTxiQbYTW",
        "outputId": "010eab77-298f-44c1-af12-166b49ea4c50"
      },
      "execution_count": 41,
      "outputs": [
        {
          "output_type": "stream",
          "name": "stdout",
          "text": [
            "enter your salary300000\n",
            "your taxable\n"
          ]
        }
      ]
    },
    {
      "cell_type": "code",
      "source": [
        "x=int(input('enter your salary'))\n",
        "if x> 500000 :\n",
        "  print('your taxable')\n",
        "else:\n",
        "  print('not taxable')\n",
        "y=x*10/100\n",
        "print(y)"
      ],
      "metadata": {
        "colab": {
          "base_uri": "https://localhost:8080/"
        },
        "id": "5bDhCPKfcYR6",
        "outputId": "1cc778f8-5b9c-4943-dab7-0f821aa8bc46"
      },
      "execution_count": 42,
      "outputs": [
        {
          "output_type": "stream",
          "name": "stdout",
          "text": [
            "enter your salary400000\n",
            "not taxable\n",
            "40000.0\n"
          ]
        }
      ]
    },
    {
      "cell_type": "code",
      "source": [
        "x=int(input('enter your salary'))\n",
        "if x <250000:\n",
        "    print('your taxable')\n",
        "elif x <500000:\n",
        "  print(x-250000*10/100)"
      ],
      "metadata": {
        "colab": {
          "base_uri": "https://localhost:8080/"
        },
        "id": "Gcsu0MpHgAls",
        "outputId": "f3be984a-bd2d-417a-b1c9-1686763a9b88"
      },
      "execution_count": 43,
      "outputs": [
        {
          "output_type": "stream",
          "name": "stdout",
          "text": [
            "enter your salary100000\n",
            "your taxable\n"
          ]
        }
      ]
    },
    {
      "cell_type": "code",
      "source": [
        ""
      ],
      "metadata": {
        "id": "4wIbVK4mjR8n"
      },
      "execution_count": 43,
      "outputs": []
    }
  ]
}